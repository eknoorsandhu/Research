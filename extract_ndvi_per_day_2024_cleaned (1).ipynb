{
  "cells": [
    {
      "cell_type": "code",
      "execution_count": 1,
      "id": "a07f5e22",
      "metadata": {
        "colab": {
          "base_uri": "https://localhost:8080/"
        },
        "id": "a07f5e22",
        "outputId": "23603721-5d48-4067-e123-b069c80b5dd4"
      },
      "outputs": [
        {
          "output_type": "stream",
          "name": "stdout",
          "text": [
            "Column names:\n",
            "['Div_Name', 'Vill_Cd', 'Vill_Name', 'Vill_Code', 'Suervisor Name', 'Farm Code', 'Farmer_Name', 'Father_Name', 'Plot No', 'Gashti No.', 'Survey Date', 'Area', 'Shar', 'Varieties', 'Crop Type', 'East', 'West', 'North', 'South', 'Lang1', 'Long1', 'Lang2', 'Long2', 'Lang3', 'Long3', 'Lang4', 'Long4', 'WKT']\n",
            "Saved NDVI data for first 30 rows.\n"
          ]
        }
      ],
      "source": [
        "import ee\n",
        "import pandas as pd\n",
        "import datetime\n",
        "\n",
        "# ─── Global Limit ────────────────────────────────\n",
        "HEAD_ROWS = 30  # Change this value as needed\n",
        "\n",
        "# ─── Initialize Earth Engine ─────────────────────\n",
        "try:\n",
        "    ee.Initialize(project='project1-464706')\n",
        "except:\n",
        "    ee.Authenticate()\n",
        "    ee.Initialize(project='project1-464706')\n",
        "\n",
        "# ─── Load CSV ─────────────────────────────────────\n",
        "df = pd.read_csv(\"/content/fixed_wkt_file(in).csv\")\n",
        "print(\"Column names:\")\n",
        "print(df.columns.tolist())\n",
        "df['Farmer_Name'] = df['Farmer_Name'].str.strip()\n",
        "\n",
        "# Optional: Limit to first N rows\n",
        "df = df.head(HEAD_ROWS)\n",
        "\n",
        "# ─── WKT → Geometry ──────────────────────────────\n",
        "def parse_wkt(wkt_string):\n",
        "    coords = wkt_string.replace(\"POLYGON((\", \"\").replace(\"))\", \"\")\n",
        "    coords = [[float(x) for x in pair.split()] for pair in coords.split(\", \")]\n",
        "    return ee.Geometry.Polygon([coords])\n",
        "\n",
        "# ─── NDVI Extraction Function ────────────────────\n",
        "def get_ndvi_series(geometry):\n",
        "    def compute_ndvi(img):\n",
        "        ndvi = img.normalizedDifference(['B8', 'B4']).rename('NDVI')\n",
        "        mean = ndvi.reduceRegion(\n",
        "            reducer=ee.Reducer.mean(),\n",
        "            geometry=geometry,\n",
        "            scale=10,\n",
        "            bestEffort=True\n",
        "        ).get('NDVI')\n",
        "        return ee.Feature(None, {\n",
        "            'system:time_start': img.get('system:time_start'),\n",
        "            'NDVI_mean': mean\n",
        "        })\n",
        "\n",
        "    s2 = ee.ImageCollection(\"COPERNICUS/S2_SR_HARMONIZED\") \\\n",
        "        .filterBounds(geometry) \\\n",
        "        .filterDate(\"2024-01-01\", \"2024-12-31\") \\\n",
        "        .filter(ee.Filter.lt('CLOUDY_PIXEL_PERCENTAGE', 10)) \\\n",
        "        .map(compute_ndvi)\n",
        "\n",
        "    return s2.aggregate_array('NDVI_mean').getInfo(), \\\n",
        "           s2.aggregate_array('system:time_start').getInfo()\n",
        "\n",
        "# ─── NDVI Extraction Loop ────────────────────────\n",
        "records = []\n",
        "\n",
        "for idx, row in df.iterrows():\n",
        "    farmer = row['Farmer_Name']\n",
        "    father = row['Father_Name']\n",
        "    plot = row['Plot No']\n",
        "    geometry = parse_wkt(row['WKT'])\n",
        "\n",
        "    ndvi_vals, timestamps = get_ndvi_series(geometry)\n",
        "\n",
        "    for ndvi, time in zip(ndvi_vals, timestamps):\n",
        "        date = datetime.datetime.utcfromtimestamp(time / 1000).date()\n",
        "        records.append({\n",
        "            'Farmer_Name': farmer,\n",
        "            'Father_Name': father,\n",
        "            'Plot No': plot,\n",
        "            'NDVI_Date': date,\n",
        "            'NDVI': ndvi\n",
        "        })\n",
        "\n",
        "# ─── Save to CSV ─────────────────────────────────\n",
        "ndvi_df = pd.DataFrame(records)\n",
        "ndvi_df.to_csv(\"/content/ndvi_output_2024.csv\", index=False)\n",
        "print(\"Saved NDVI data for first\", HEAD_ROWS, \"rows.\")\n"
      ]
    }
  ],
  "metadata": {
    "colab": {
      "provenance": []
    },
    "kernelspec": {
      "display_name": "Python 3",
      "name": "python3"
    },
    "language_info": {
      "name": "python"
    }
  },
  "nbformat": 4,
  "nbformat_minor": 5
}